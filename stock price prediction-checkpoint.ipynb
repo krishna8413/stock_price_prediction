{
 "cells": [
  {
   "cell_type": "code",
   "execution_count": null,
   "metadata": {
    "_cell_guid": "b1076dfc-b9ad-4769-8c92-a6c4dae69d19",
    "_uuid": "8f2839f25d086af736a60e9eeb907d3b93b6e0e5",
    "execution": {
     "iopub.execute_input": "2022-03-27T08:48:29.786504Z",
     "iopub.status.busy": "2022-03-27T08:48:29.785321Z",
     "iopub.status.idle": "2022-03-27T08:48:29.818371Z",
     "shell.execute_reply": "2022-03-27T08:48:29.817696Z",
     "shell.execute_reply.started": "2022-03-27T08:48:29.786373Z"
    }
   },
   "outputs": [],
   "source": [
    "# This Python 3 environment comes with many helpful analytics libraries installed\n",
    "# It is defined by the kaggle/python Docker image: https://github.com/kaggle/docker-python\n",
    "# For example, here's several helpful packages to load\n",
    "\n",
    "import numpy as np # linear algebra\n",
    "import pandas as pd # data processing, CSV file I/O (e.g. pd.read_csv)\n",
    "\n",
    "# Input data files are available in the read-only \"../input/\" directory\n",
    "# For example, running this (by clicking run or pressing Shift+Enter) will list all files under the input directory\n",
    "\n",
    "import os\n",
    "for dirname, _, filenames in os.walk('/kaggle/input'):\n",
    "    for filename in filenames:\n",
    "        print(os.path.join(dirname, filename))\n",
    "\n",
    "# You can write up to 20GB to the current directory (/kaggle/working/) that gets preserved as output when you create a version using \"Save & Run All\" \n",
    "# You can also write temporary files to /kaggle/temp/, but they won't be saved outside of the current session"
   ]
  },
  {
   "cell_type": "code",
   "execution_count": null,
   "metadata": {
    "execution": {
     "iopub.execute_input": "2022-03-27T08:48:29.820373Z",
     "iopub.status.busy": "2022-03-27T08:48:29.819993Z",
     "iopub.status.idle": "2022-03-27T08:48:36.274907Z",
     "shell.execute_reply": "2022-03-27T08:48:36.273948Z",
     "shell.execute_reply.started": "2022-03-27T08:48:29.820341Z"
    }
   },
   "outputs": [],
   "source": [
    "import numpy as np\n",
    "import pandas as pd\n",
    "import matplotlib.pyplot as plt\n",
    "import pandas_datareader as data\n"
   ]
  },
  {
   "cell_type": "code",
   "execution_count": null,
   "metadata": {
    "execution": {
     "iopub.execute_input": "2022-03-27T08:48:36.276343Z",
     "iopub.status.busy": "2022-03-27T08:48:36.276107Z",
     "iopub.status.idle": "2022-03-27T08:48:37.573969Z",
     "shell.execute_reply": "2022-03-27T08:48:37.573168Z",
     "shell.execute_reply.started": "2022-03-27T08:48:36.276313Z"
    }
   },
   "outputs": [],
   "source": [
    "start = '2005-01-01'\n",
    "end = '2022-02-27'\n",
    "\n",
    "df = data.DataReader('TTM','yahoo', start ,end)\n",
    "df.head()"
   ]
  },
  {
   "cell_type": "code",
   "execution_count": null,
   "metadata": {
    "execution": {
     "iopub.execute_input": "2022-03-27T08:48:37.576095Z",
     "iopub.status.busy": "2022-03-27T08:48:37.575551Z",
     "iopub.status.idle": "2022-03-27T08:48:37.590176Z",
     "shell.execute_reply": "2022-03-27T08:48:37.589361Z",
     "shell.execute_reply.started": "2022-03-27T08:48:37.576052Z"
    }
   },
   "outputs": [],
   "source": [
    "df.tail()"
   ]
  },
  {
   "cell_type": "code",
   "execution_count": null,
   "metadata": {
    "execution": {
     "iopub.execute_input": "2022-03-27T08:48:37.593584Z",
     "iopub.status.busy": "2022-03-27T08:48:37.592993Z",
     "iopub.status.idle": "2022-03-27T08:48:37.62095Z",
     "shell.execute_reply": "2022-03-27T08:48:37.620198Z",
     "shell.execute_reply.started": "2022-03-27T08:48:37.59354Z"
    }
   },
   "outputs": [],
   "source": [
    "df = df.reset_index()\n",
    "df.head()"
   ]
  },
  {
   "cell_type": "code",
   "execution_count": null,
   "metadata": {
    "execution": {
     "iopub.execute_input": "2022-03-27T08:48:37.622411Z",
     "iopub.status.busy": "2022-03-27T08:48:37.622013Z",
     "iopub.status.idle": "2022-03-27T08:48:37.637047Z",
     "shell.execute_reply": "2022-03-27T08:48:37.636192Z",
     "shell.execute_reply.started": "2022-03-27T08:48:37.622378Z"
    }
   },
   "outputs": [],
   "source": [
    "df = df.drop(['Date','Adj Close'],axis = 1)\n",
    "df.head()"
   ]
  },
  {
   "cell_type": "code",
   "execution_count": null,
   "metadata": {
    "execution": {
     "iopub.execute_input": "2022-03-27T08:48:37.638672Z",
     "iopub.status.busy": "2022-03-27T08:48:37.638361Z",
     "iopub.status.idle": "2022-03-27T08:48:37.834706Z",
     "shell.execute_reply": "2022-03-27T08:48:37.833899Z",
     "shell.execute_reply.started": "2022-03-27T08:48:37.638623Z"
    }
   },
   "outputs": [],
   "source": [
    "plt.plot(df.Close)"
   ]
  },
  {
   "cell_type": "code",
   "execution_count": null,
   "metadata": {
    "execution": {
     "iopub.execute_input": "2022-03-27T08:48:37.836264Z",
     "iopub.status.busy": "2022-03-27T08:48:37.835972Z",
     "iopub.status.idle": "2022-03-27T08:48:37.849581Z",
     "shell.execute_reply": "2022-03-27T08:48:37.848712Z",
     "shell.execute_reply.started": "2022-03-27T08:48:37.836223Z"
    }
   },
   "outputs": [],
   "source": [
    "ma100 = df.Close.rolling(100).mean()\n",
    "ma100"
   ]
  },
  {
   "cell_type": "code",
   "execution_count": null,
   "metadata": {
    "execution": {
     "iopub.execute_input": "2022-03-27T08:48:37.851949Z",
     "iopub.status.busy": "2022-03-27T08:48:37.851392Z",
     "iopub.status.idle": "2022-03-27T08:48:38.066364Z",
     "shell.execute_reply": "2022-03-27T08:48:38.065485Z",
     "shell.execute_reply.started": "2022-03-27T08:48:37.85191Z"
    }
   },
   "outputs": [],
   "source": [
    "plt.figure(figsize =(12,6))\n",
    "plt.plot(df.Close)\n",
    "plt.plot(ma100,'r')"
   ]
  },
  {
   "cell_type": "markdown",
   "metadata": {},
   "source": []
  },
  {
   "cell_type": "code",
   "execution_count": null,
   "metadata": {
    "execution": {
     "iopub.execute_input": "2022-03-27T08:48:38.068331Z",
     "iopub.status.busy": "2022-03-27T08:48:38.067927Z",
     "iopub.status.idle": "2022-03-27T08:48:38.077886Z",
     "shell.execute_reply": "2022-03-27T08:48:38.076821Z",
     "shell.execute_reply.started": "2022-03-27T08:48:38.068277Z"
    }
   },
   "outputs": [],
   "source": [
    "ma200 = df.Close.rolling(200).mean()\n",
    "ma200"
   ]
  },
  {
   "cell_type": "code",
   "execution_count": null,
   "metadata": {
    "execution": {
     "iopub.execute_input": "2022-03-27T08:48:38.080055Z",
     "iopub.status.busy": "2022-03-27T08:48:38.079737Z",
     "iopub.status.idle": "2022-03-27T08:48:38.323421Z",
     "shell.execute_reply": "2022-03-27T08:48:38.322565Z",
     "shell.execute_reply.started": "2022-03-27T08:48:38.080014Z"
    }
   },
   "outputs": [],
   "source": [
    "plt.figure(figsize =(12,6))\n",
    "plt.plot(df.Close)\n",
    "plt.plot(ma100,'r')\n",
    "plt.plot(ma200,'g')"
   ]
  },
  {
   "cell_type": "code",
   "execution_count": null,
   "metadata": {
    "execution": {
     "iopub.execute_input": "2022-03-27T08:48:38.325181Z",
     "iopub.status.busy": "2022-03-27T08:48:38.324933Z",
     "iopub.status.idle": "2022-03-27T08:48:38.331227Z",
     "shell.execute_reply": "2022-03-27T08:48:38.330346Z",
     "shell.execute_reply.started": "2022-03-27T08:48:38.325151Z"
    }
   },
   "outputs": [],
   "source": [
    "df.shape"
   ]
  },
  {
   "cell_type": "code",
   "execution_count": null,
   "metadata": {
    "execution": {
     "iopub.execute_input": "2022-03-27T08:48:38.333295Z",
     "iopub.status.busy": "2022-03-27T08:48:38.332975Z",
     "iopub.status.idle": "2022-03-27T08:48:38.345507Z",
     "shell.execute_reply": "2022-03-27T08:48:38.344588Z",
     "shell.execute_reply.started": "2022-03-27T08:48:38.333252Z"
    }
   },
   "outputs": [],
   "source": [
    "# Splitting Data into Training and Testing\n",
    "\n",
    "data_training = pd.DataFrame(df['Close'][0:int(len(df)*0.70)])\n",
    "data_testing = pd.DataFrame(df['Close'][int(len(df)*0.70): int(len(df))])\n",
    "\n",
    "print (data_training.shape)\n",
    "print(data_testing.shape)"
   ]
  },
  {
   "cell_type": "code",
   "execution_count": null,
   "metadata": {
    "execution": {
     "iopub.execute_input": "2022-03-27T08:48:38.349861Z",
     "iopub.status.busy": "2022-03-27T08:48:38.348937Z",
     "iopub.status.idle": "2022-03-27T08:48:38.363602Z",
     "shell.execute_reply": "2022-03-27T08:48:38.362923Z",
     "shell.execute_reply.started": "2022-03-27T08:48:38.349823Z"
    }
   },
   "outputs": [],
   "source": [
    "data_training.head()"
   ]
  },
  {
   "cell_type": "code",
   "execution_count": null,
   "metadata": {
    "execution": {
     "iopub.execute_input": "2022-03-27T08:48:38.365393Z",
     "iopub.status.busy": "2022-03-27T08:48:38.364986Z",
     "iopub.status.idle": "2022-03-27T08:48:38.376739Z",
     "shell.execute_reply": "2022-03-27T08:48:38.375929Z",
     "shell.execute_reply.started": "2022-03-27T08:48:38.36535Z"
    }
   },
   "outputs": [],
   "source": [
    "data_testing.head()"
   ]
  },
  {
   "cell_type": "code",
   "execution_count": null,
   "metadata": {
    "execution": {
     "iopub.execute_input": "2022-03-27T08:48:38.378896Z",
     "iopub.status.busy": "2022-03-27T08:48:38.378123Z",
     "iopub.status.idle": "2022-03-27T08:48:39.097632Z",
     "shell.execute_reply": "2022-03-27T08:48:39.096722Z",
     "shell.execute_reply.started": "2022-03-27T08:48:38.378854Z"
    }
   },
   "outputs": [],
   "source": [
    "from sklearn.preprocessing import MinMaxScaler\n",
    "scaler = MinMaxScaler (feature_range=(0,1)) "
   ]
  },
  {
   "cell_type": "code",
   "execution_count": null,
   "metadata": {
    "execution": {
     "iopub.execute_input": "2022-03-27T08:48:39.099309Z",
     "iopub.status.busy": "2022-03-27T08:48:39.098979Z",
     "iopub.status.idle": "2022-03-27T08:48:39.111293Z",
     "shell.execute_reply": "2022-03-27T08:48:39.110376Z",
     "shell.execute_reply.started": "2022-03-27T08:48:39.099269Z"
    }
   },
   "outputs": [],
   "source": [
    "data_training_array = scaler.fit_transform(data_training)\n",
    "data_training_array"
   ]
  },
  {
   "cell_type": "code",
   "execution_count": null,
   "metadata": {
    "execution": {
     "iopub.execute_input": "2022-03-27T08:48:39.113414Z",
     "iopub.status.busy": "2022-03-27T08:48:39.112589Z",
     "iopub.status.idle": "2022-03-27T08:48:39.126819Z",
     "shell.execute_reply": "2022-03-27T08:48:39.126117Z",
     "shell.execute_reply.started": "2022-03-27T08:48:39.113369Z"
    }
   },
   "outputs": [],
   "source": [
    "data_training_array.shape"
   ]
  },
  {
   "cell_type": "code",
   "execution_count": null,
   "metadata": {
    "execution": {
     "iopub.execute_input": "2022-03-27T08:48:39.128885Z",
     "iopub.status.busy": "2022-03-27T08:48:39.128057Z",
     "iopub.status.idle": "2022-03-27T08:48:39.145122Z",
     "shell.execute_reply": "2022-03-27T08:48:39.144349Z",
     "shell.execute_reply.started": "2022-03-27T08:48:39.128846Z"
    }
   },
   "outputs": [],
   "source": [
    "x_train = []\n",
    "y_train = []\n",
    "\n",
    "for i in range(100,data_training_array.shape[0]):\n",
    "    x_train.append(data_training_array[i-100: i])\n",
    "    y_train.append(data_training_array[i, 0])\n",
    "\n",
    "x_train, y_train = np.array(x_train), np.array(y_train)    "
   ]
  },
  {
   "cell_type": "code",
   "execution_count": null,
   "metadata": {
    "execution": {
     "iopub.execute_input": "2022-03-27T08:48:39.147531Z",
     "iopub.status.busy": "2022-03-27T08:48:39.146532Z",
     "iopub.status.idle": "2022-03-27T08:48:39.15421Z",
     "shell.execute_reply": "2022-03-27T08:48:39.15339Z",
     "shell.execute_reply.started": "2022-03-27T08:48:39.147482Z"
    }
   },
   "outputs": [],
   "source": [
    "x_train.shape"
   ]
  },
  {
   "cell_type": "code",
   "execution_count": null,
   "metadata": {
    "execution": {
     "iopub.execute_input": "2022-03-27T08:48:39.155576Z",
     "iopub.status.busy": "2022-03-27T08:48:39.155361Z",
     "iopub.status.idle": "2022-03-27T08:48:39.164363Z",
     "shell.execute_reply": "2022-03-27T08:48:39.163459Z",
     "shell.execute_reply.started": "2022-03-27T08:48:39.15555Z"
    }
   },
   "outputs": [],
   "source": [
    "from keras.layers import Dense, Dropout , LSTM\n",
    "from keras.models import Sequential\n",
    "            "
   ]
  },
  {
   "cell_type": "code",
   "execution_count": null,
   "metadata": {
    "execution": {
     "iopub.execute_input": "2022-03-27T08:48:39.166018Z",
     "iopub.status.busy": "2022-03-27T08:48:39.165796Z",
     "iopub.status.idle": "2022-03-27T08:48:39.63971Z",
     "shell.execute_reply": "2022-03-27T08:48:39.638838Z",
     "shell.execute_reply.started": "2022-03-27T08:48:39.165991Z"
    }
   },
   "outputs": [],
   "source": [
    "model = Sequential()\n",
    "model.add(LSTM(units = 50, activation = 'relu', return_sequences = True,   \n",
    "              input_shape = (x_train.shape[1], 1)))\n",
    "model.add(Dropout(0.2))\n",
    "\n",
    "model.add(LSTM(units = 60, activation = 'relu', return_sequences = True))\n",
    "model.add(Dropout(0.3))\n",
    "\n",
    "model.add(LSTM(units = 80, activation = 'relu', return_sequences = True))\n",
    "model.add(Dropout(0.3))\n",
    "\n",
    "\n",
    "\n",
    "model.add(LSTM(units = 120, activation = 'relu'))\n",
    "model.add(Dropout(0.5))\n",
    "\n",
    "\n",
    "model.add(Dense(units = 1))"
   ]
  },
  {
   "cell_type": "code",
   "execution_count": null,
   "metadata": {
    "execution": {
     "iopub.execute_input": "2022-03-27T08:48:39.641101Z",
     "iopub.status.busy": "2022-03-27T08:48:39.640872Z",
     "iopub.status.idle": "2022-03-27T08:48:39.652572Z",
     "shell.execute_reply": "2022-03-27T08:48:39.650841Z",
     "shell.execute_reply.started": "2022-03-27T08:48:39.641073Z"
    }
   },
   "outputs": [],
   "source": [
    "model.summary()"
   ]
  },
  {
   "cell_type": "code",
   "execution_count": null,
   "metadata": {
    "execution": {
     "iopub.execute_input": "2022-03-27T08:48:39.654016Z",
     "iopub.status.busy": "2022-03-27T08:48:39.653778Z",
     "iopub.status.idle": "2022-03-27T09:15:08.158673Z",
     "shell.execute_reply": "2022-03-27T09:15:08.157842Z",
     "shell.execute_reply.started": "2022-03-27T08:48:39.653987Z"
    }
   },
   "outputs": [],
   "source": [
    "model.compile(optimizer='adam', loss='mean_squared_error')\n",
    "model.fit(x_train, y_train, epochs= 50)                                  "
   ]
  },
  {
   "cell_type": "code",
   "execution_count": null,
   "metadata": {},
   "outputs": [],
   "source": [
    "model.save('keras.h5')"
   ]
  },
  {
   "cell_type": "code",
   "execution_count": null,
   "metadata": {},
   "outputs": [],
   "source": [
    "data_testing.head()"
   ]
  }
 ],
 "metadata": {
  "kernelspec": {
   "display_name": "Python 3.10.4 64-bit",
   "language": "python",
   "name": "python3"
  },
  "language_info": {
   "codemirror_mode": {
    "name": "ipython",
    "version": 3
   },
   "file_extension": ".py",
   "mimetype": "text/x-python",
   "name": "python",
   "nbconvert_exporter": "python",
   "pygments_lexer": "ipython3",
   "version": "3.10.4"
  },
  "vscode": {
   "interpreter": {
    "hash": "1bc66df9640e1c3054c558a0616e4a3d171308de798f2439b219c5397075e74d"
   }
  }
 },
 "nbformat": 4,
 "nbformat_minor": 4
}
