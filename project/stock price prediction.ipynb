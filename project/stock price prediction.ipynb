{
 "cells": [
  {
   "cell_type": "code",
   "execution_count": 1,
   "metadata": {
    "execution": {
     "iopub.execute_input": "2022-03-27T08:48:29.820373Z",
     "iopub.status.busy": "2022-03-27T08:48:29.819993Z",
     "iopub.status.idle": "2022-03-27T08:48:36.274907Z",
     "shell.execute_reply": "2022-03-27T08:48:36.273948Z",
     "shell.execute_reply.started": "2022-03-27T08:48:29.820341Z"
    }
   },
   "outputs": [],
   "source": [
    "import numpy as np\n",
    "import pandas as pd\n",
    "import matplotlib.pyplot as plt\n",
    "import pandas_datareader as data\n",
    "import datetime as dt\n"
   ]
  },
  {
   "cell_type": "code",
   "execution_count": 2,
   "metadata": {
    "execution": {
     "iopub.execute_input": "2022-03-27T08:48:36.276343Z",
     "iopub.status.busy": "2022-03-27T08:48:36.276107Z",
     "iopub.status.idle": "2022-03-27T08:48:37.573969Z",
     "shell.execute_reply": "2022-03-27T08:48:37.573168Z",
     "shell.execute_reply.started": "2022-03-27T08:48:36.276313Z"
    }
   },
   "outputs": [
    {
     "data": {
      "text/html": [
       "<div>\n",
       "<style scoped>\n",
       "    .dataframe tbody tr th:only-of-type {\n",
       "        vertical-align: middle;\n",
       "    }\n",
       "\n",
       "    .dataframe tbody tr th {\n",
       "        vertical-align: top;\n",
       "    }\n",
       "\n",
       "    .dataframe thead th {\n",
       "        text-align: right;\n",
       "    }\n",
       "</style>\n",
       "<table border=\"1\" class=\"dataframe\">\n",
       "  <thead>\n",
       "    <tr style=\"text-align: right;\">\n",
       "      <th></th>\n",
       "      <th>High</th>\n",
       "      <th>Low</th>\n",
       "      <th>Open</th>\n",
       "      <th>Close</th>\n",
       "      <th>Volume</th>\n",
       "      <th>Adj Close</th>\n",
       "    </tr>\n",
       "    <tr>\n",
       "      <th>Date</th>\n",
       "      <th></th>\n",
       "      <th></th>\n",
       "      <th></th>\n",
       "      <th></th>\n",
       "      <th></th>\n",
       "      <th></th>\n",
       "    </tr>\n",
       "  </thead>\n",
       "  <tbody>\n",
       "    <tr>\n",
       "      <th>2004-12-31</th>\n",
       "      <td>12.18</td>\n",
       "      <td>11.49</td>\n",
       "      <td>11.52</td>\n",
       "      <td>11.92</td>\n",
       "      <td>317400.0</td>\n",
       "      <td>10.098864</td>\n",
       "    </tr>\n",
       "    <tr>\n",
       "      <th>2005-01-03</th>\n",
       "      <td>12.25</td>\n",
       "      <td>12.00</td>\n",
       "      <td>12.22</td>\n",
       "      <td>12.06</td>\n",
       "      <td>314900.0</td>\n",
       "      <td>10.217473</td>\n",
       "    </tr>\n",
       "    <tr>\n",
       "      <th>2005-01-04</th>\n",
       "      <td>12.05</td>\n",
       "      <td>11.76</td>\n",
       "      <td>12.00</td>\n",
       "      <td>11.78</td>\n",
       "      <td>273400.0</td>\n",
       "      <td>9.980253</td>\n",
       "    </tr>\n",
       "    <tr>\n",
       "      <th>2005-01-05</th>\n",
       "      <td>11.58</td>\n",
       "      <td>11.27</td>\n",
       "      <td>11.58</td>\n",
       "      <td>11.34</td>\n",
       "      <td>362600.0</td>\n",
       "      <td>9.607475</td>\n",
       "    </tr>\n",
       "    <tr>\n",
       "      <th>2005-01-06</th>\n",
       "      <td>11.29</td>\n",
       "      <td>11.04</td>\n",
       "      <td>11.29</td>\n",
       "      <td>11.10</td>\n",
       "      <td>243900.0</td>\n",
       "      <td>9.404141</td>\n",
       "    </tr>\n",
       "  </tbody>\n",
       "</table>\n",
       "</div>"
      ],
      "text/plain": [
       "             High    Low   Open  Close    Volume  Adj Close\n",
       "Date                                                       \n",
       "2004-12-31  12.18  11.49  11.52  11.92  317400.0  10.098864\n",
       "2005-01-03  12.25  12.00  12.22  12.06  314900.0  10.217473\n",
       "2005-01-04  12.05  11.76  12.00  11.78  273400.0   9.980253\n",
       "2005-01-05  11.58  11.27  11.58  11.34  362600.0   9.607475\n",
       "2005-01-06  11.29  11.04  11.29  11.10  243900.0   9.404141"
      ]
     },
     "execution_count": 2,
     "metadata": {},
     "output_type": "execute_result"
    }
   ],
   "source": [
    "start = '2005-01-01'\n",
    "end = dt.datetime.today()-dt.timedelta(days=1)\n",
    "\n",
    "df = data.DataReader('TTM','yahoo', start ,end)\n",
    "df.head()"
   ]
  },
  {
   "cell_type": "code",
   "execution_count": 3,
   "metadata": {
    "execution": {
     "iopub.execute_input": "2022-03-27T08:48:37.576095Z",
     "iopub.status.busy": "2022-03-27T08:48:37.575551Z",
     "iopub.status.idle": "2022-03-27T08:48:37.590176Z",
     "shell.execute_reply": "2022-03-27T08:48:37.589361Z",
     "shell.execute_reply.started": "2022-03-27T08:48:37.576052Z"
    }
   },
   "outputs": [
    {
     "data": {
      "text/html": [
       "<div>\n",
       "<style scoped>\n",
       "    .dataframe tbody tr th:only-of-type {\n",
       "        vertical-align: middle;\n",
       "    }\n",
       "\n",
       "    .dataframe tbody tr th {\n",
       "        vertical-align: top;\n",
       "    }\n",
       "\n",
       "    .dataframe thead th {\n",
       "        text-align: right;\n",
       "    }\n",
       "</style>\n",
       "<table border=\"1\" class=\"dataframe\">\n",
       "  <thead>\n",
       "    <tr style=\"text-align: right;\">\n",
       "      <th></th>\n",
       "      <th>High</th>\n",
       "      <th>Low</th>\n",
       "      <th>Open</th>\n",
       "      <th>Close</th>\n",
       "      <th>Volume</th>\n",
       "      <th>Adj Close</th>\n",
       "    </tr>\n",
       "    <tr>\n",
       "      <th>Date</th>\n",
       "      <th></th>\n",
       "      <th></th>\n",
       "      <th></th>\n",
       "      <th></th>\n",
       "      <th></th>\n",
       "      <th></th>\n",
       "    </tr>\n",
       "  </thead>\n",
       "  <tbody>\n",
       "    <tr>\n",
       "      <th>2022-05-09</th>\n",
       "      <td>25.950001</td>\n",
       "      <td>25.379999</td>\n",
       "      <td>25.709999</td>\n",
       "      <td>25.410000</td>\n",
       "      <td>766000.0</td>\n",
       "      <td>25.410000</td>\n",
       "    </tr>\n",
       "    <tr>\n",
       "      <th>2022-05-10</th>\n",
       "      <td>25.580000</td>\n",
       "      <td>24.930000</td>\n",
       "      <td>25.139999</td>\n",
       "      <td>25.459999</td>\n",
       "      <td>927100.0</td>\n",
       "      <td>25.459999</td>\n",
       "    </tr>\n",
       "    <tr>\n",
       "      <th>2022-05-11</th>\n",
       "      <td>25.500000</td>\n",
       "      <td>24.360001</td>\n",
       "      <td>24.930000</td>\n",
       "      <td>24.459999</td>\n",
       "      <td>1015700.0</td>\n",
       "      <td>24.459999</td>\n",
       "    </tr>\n",
       "    <tr>\n",
       "      <th>2022-05-12</th>\n",
       "      <td>24.389999</td>\n",
       "      <td>22.920000</td>\n",
       "      <td>23.850000</td>\n",
       "      <td>24.120001</td>\n",
       "      <td>1212900.0</td>\n",
       "      <td>24.120001</td>\n",
       "    </tr>\n",
       "    <tr>\n",
       "      <th>2022-05-13</th>\n",
       "      <td>26.590000</td>\n",
       "      <td>25.770000</td>\n",
       "      <td>25.820000</td>\n",
       "      <td>26.389999</td>\n",
       "      <td>966000.0</td>\n",
       "      <td>26.389999</td>\n",
       "    </tr>\n",
       "  </tbody>\n",
       "</table>\n",
       "</div>"
      ],
      "text/plain": [
       "                 High        Low       Open      Close     Volume  Adj Close\n",
       "Date                                                                        \n",
       "2022-05-09  25.950001  25.379999  25.709999  25.410000   766000.0  25.410000\n",
       "2022-05-10  25.580000  24.930000  25.139999  25.459999   927100.0  25.459999\n",
       "2022-05-11  25.500000  24.360001  24.930000  24.459999  1015700.0  24.459999\n",
       "2022-05-12  24.389999  22.920000  23.850000  24.120001  1212900.0  24.120001\n",
       "2022-05-13  26.590000  25.770000  25.820000  26.389999   966000.0  26.389999"
      ]
     },
     "execution_count": 3,
     "metadata": {},
     "output_type": "execute_result"
    }
   ],
   "source": [
    "df.tail()"
   ]
  },
  {
   "cell_type": "code",
   "execution_count": 24,
   "metadata": {
    "execution": {
     "iopub.execute_input": "2022-03-27T08:48:37.593584Z",
     "iopub.status.busy": "2022-03-27T08:48:37.592993Z",
     "iopub.status.idle": "2022-03-27T08:48:37.62095Z",
     "shell.execute_reply": "2022-03-27T08:48:37.620198Z",
     "shell.execute_reply.started": "2022-03-27T08:48:37.59354Z"
    }
   },
   "outputs": [
    {
     "data": {
      "text/html": [
       "<div>\n",
       "<style scoped>\n",
       "    .dataframe tbody tr th:only-of-type {\n",
       "        vertical-align: middle;\n",
       "    }\n",
       "\n",
       "    .dataframe tbody tr th {\n",
       "        vertical-align: top;\n",
       "    }\n",
       "\n",
       "    .dataframe thead th {\n",
       "        text-align: right;\n",
       "    }\n",
       "</style>\n",
       "<table border=\"1\" class=\"dataframe\">\n",
       "  <thead>\n",
       "    <tr style=\"text-align: right;\">\n",
       "      <th></th>\n",
       "      <th>Date</th>\n",
       "      <th>High</th>\n",
       "      <th>Low</th>\n",
       "      <th>Open</th>\n",
       "      <th>Close</th>\n",
       "      <th>Volume</th>\n",
       "      <th>Adj Close</th>\n",
       "    </tr>\n",
       "  </thead>\n",
       "  <tbody>\n",
       "    <tr>\n",
       "      <th>0</th>\n",
       "      <td>2004-12-31</td>\n",
       "      <td>12.18</td>\n",
       "      <td>11.49</td>\n",
       "      <td>11.52</td>\n",
       "      <td>11.92</td>\n",
       "      <td>317400.0</td>\n",
       "      <td>10.384134</td>\n",
       "    </tr>\n",
       "    <tr>\n",
       "      <th>1</th>\n",
       "      <td>2005-01-03</td>\n",
       "      <td>12.25</td>\n",
       "      <td>12.00</td>\n",
       "      <td>12.22</td>\n",
       "      <td>12.06</td>\n",
       "      <td>314900.0</td>\n",
       "      <td>10.506095</td>\n",
       "    </tr>\n",
       "    <tr>\n",
       "      <th>2</th>\n",
       "      <td>2005-01-04</td>\n",
       "      <td>12.05</td>\n",
       "      <td>11.76</td>\n",
       "      <td>12.00</td>\n",
       "      <td>11.78</td>\n",
       "      <td>273400.0</td>\n",
       "      <td>10.262174</td>\n",
       "    </tr>\n",
       "    <tr>\n",
       "      <th>3</th>\n",
       "      <td>2005-01-05</td>\n",
       "      <td>11.58</td>\n",
       "      <td>11.27</td>\n",
       "      <td>11.58</td>\n",
       "      <td>11.34</td>\n",
       "      <td>362600.0</td>\n",
       "      <td>9.878865</td>\n",
       "    </tr>\n",
       "    <tr>\n",
       "      <th>4</th>\n",
       "      <td>2005-01-06</td>\n",
       "      <td>11.29</td>\n",
       "      <td>11.04</td>\n",
       "      <td>11.29</td>\n",
       "      <td>11.10</td>\n",
       "      <td>243900.0</td>\n",
       "      <td>9.669789</td>\n",
       "    </tr>\n",
       "  </tbody>\n",
       "</table>\n",
       "</div>"
      ],
      "text/plain": [
       "        Date   High    Low   Open  Close    Volume  Adj Close\n",
       "0 2004-12-31  12.18  11.49  11.52  11.92  317400.0  10.384134\n",
       "1 2005-01-03  12.25  12.00  12.22  12.06  314900.0  10.506095\n",
       "2 2005-01-04  12.05  11.76  12.00  11.78  273400.0  10.262174\n",
       "3 2005-01-05  11.58  11.27  11.58  11.34  362600.0   9.878865\n",
       "4 2005-01-06  11.29  11.04  11.29  11.10  243900.0   9.669789"
      ]
     },
     "execution_count": 24,
     "metadata": {},
     "output_type": "execute_result"
    }
   ],
   "source": [
    "df = df.reset_index()\n",
    "df.head()"
   ]
  },
  {
   "cell_type": "code",
   "execution_count": 25,
   "metadata": {
    "execution": {
     "iopub.execute_input": "2022-03-27T08:48:37.622411Z",
     "iopub.status.busy": "2022-03-27T08:48:37.622013Z",
     "iopub.status.idle": "2022-03-27T08:48:37.637047Z",
     "shell.execute_reply": "2022-03-27T08:48:37.636192Z",
     "shell.execute_reply.started": "2022-03-27T08:48:37.622378Z"
    }
   },
   "outputs": [
    {
     "data": {
      "text/html": [
       "<div>\n",
       "<style scoped>\n",
       "    .dataframe tbody tr th:only-of-type {\n",
       "        vertical-align: middle;\n",
       "    }\n",
       "\n",
       "    .dataframe tbody tr th {\n",
       "        vertical-align: top;\n",
       "    }\n",
       "\n",
       "    .dataframe thead th {\n",
       "        text-align: right;\n",
       "    }\n",
       "</style>\n",
       "<table border=\"1\" class=\"dataframe\">\n",
       "  <thead>\n",
       "    <tr style=\"text-align: right;\">\n",
       "      <th></th>\n",
       "      <th>High</th>\n",
       "      <th>Low</th>\n",
       "      <th>Open</th>\n",
       "      <th>Close</th>\n",
       "      <th>Volume</th>\n",
       "    </tr>\n",
       "  </thead>\n",
       "  <tbody>\n",
       "    <tr>\n",
       "      <th>0</th>\n",
       "      <td>12.18</td>\n",
       "      <td>11.49</td>\n",
       "      <td>11.52</td>\n",
       "      <td>11.92</td>\n",
       "      <td>317400.0</td>\n",
       "    </tr>\n",
       "    <tr>\n",
       "      <th>1</th>\n",
       "      <td>12.25</td>\n",
       "      <td>12.00</td>\n",
       "      <td>12.22</td>\n",
       "      <td>12.06</td>\n",
       "      <td>314900.0</td>\n",
       "    </tr>\n",
       "    <tr>\n",
       "      <th>2</th>\n",
       "      <td>12.05</td>\n",
       "      <td>11.76</td>\n",
       "      <td>12.00</td>\n",
       "      <td>11.78</td>\n",
       "      <td>273400.0</td>\n",
       "    </tr>\n",
       "    <tr>\n",
       "      <th>3</th>\n",
       "      <td>11.58</td>\n",
       "      <td>11.27</td>\n",
       "      <td>11.58</td>\n",
       "      <td>11.34</td>\n",
       "      <td>362600.0</td>\n",
       "    </tr>\n",
       "    <tr>\n",
       "      <th>4</th>\n",
       "      <td>11.29</td>\n",
       "      <td>11.04</td>\n",
       "      <td>11.29</td>\n",
       "      <td>11.10</td>\n",
       "      <td>243900.0</td>\n",
       "    </tr>\n",
       "  </tbody>\n",
       "</table>\n",
       "</div>"
      ],
      "text/plain": [
       "    High    Low   Open  Close    Volume\n",
       "0  12.18  11.49  11.52  11.92  317400.0\n",
       "1  12.25  12.00  12.22  12.06  314900.0\n",
       "2  12.05  11.76  12.00  11.78  273400.0\n",
       "3  11.58  11.27  11.58  11.34  362600.0\n",
       "4  11.29  11.04  11.29  11.10  243900.0"
      ]
     },
     "execution_count": 25,
     "metadata": {},
     "output_type": "execute_result"
    }
   ],
   "source": [
    "df = df.drop(['Date','Adj Close'],axis = 1)\n",
    "df.head()"
   ]
  },
  {
   "cell_type": "code",
   "execution_count": 26,
   "metadata": {
    "execution": {
     "iopub.execute_input": "2022-03-27T08:48:37.638672Z",
     "iopub.status.busy": "2022-03-27T08:48:37.638361Z",
     "iopub.status.idle": "2022-03-27T08:48:37.834706Z",
     "shell.execute_reply": "2022-03-27T08:48:37.833899Z",
     "shell.execute_reply.started": "2022-03-27T08:48:37.638623Z"
    }
   },
   "outputs": [
    {
     "data": {
      "text/plain": [
       "[<matplotlib.lines.Line2D at 0x1e5369a2e20>]"
      ]
     },
     "execution_count": 26,
     "metadata": {},
     "output_type": "execute_result"
    },
    {
     "data": {
      "image/png": "[encoded data removed]",
      "text/plain": [
       "<Figure size 432x288 with 1 Axes>"
      ]
     },
     "metadata": {
      "needs_background": "light"
     },
     "output_type": "display_data"
    }
   ],
   "source": [
    "plt.plot(df.Close)"
   ]
  },
  {
   "cell_type": "code",
   "execution_count": 27,
   "metadata": {
    "execution": {
     "iopub.execute_input": "2022-03-27T08:48:37.836264Z",
     "iopub.status.busy": "2022-03-27T08:48:37.835972Z",
     "iopub.status.idle": "2022-03-27T08:48:37.849581Z",
     "shell.execute_reply": "2022-03-27T08:48:37.848712Z",
     "shell.execute_reply.started": "2022-03-27T08:48:37.836223Z"
    }
   },
   "outputs": [
    {
     "data": {
      "text/plain": [
       "0           NaN\n",
       "1           NaN\n",
       "2           NaN\n",
       "3           NaN\n",
       "4           NaN\n",
       "         ...   \n",
       "4314    31.8487\n",
       "4315    31.9409\n",
       "4316    32.0271\n",
       "4317    32.0929\n",
       "4318    32.1737\n",
       "Name: Close, Length: 4319, dtype: float64"
      ]
     },
     "execution_count": 27,
     "metadata": {},
     "output_type": "execute_result"
    }
   ],
   "source": [
    "ma100 = df.Close.rolling(100).mean()\n",
    "ma100"
   ]
  },
  {
   "cell_type": "code",
   "execution_count": 63,
   "metadata": {
    "execution": {
     "iopub.execute_input": "2022-03-27T08:48:37.851949Z",
     "iopub.status.busy": "2022-03-27T08:48:37.851392Z",
     "iopub.status.idle": "2022-03-27T08:48:38.066364Z",
     "shell.execute_reply": "2022-03-27T08:48:38.065485Z",
     "shell.execute_reply.started": "2022-03-27T08:48:37.85191Z"
    }
   },
   "outputs": [
    {
     "data": {
      "text/plain": [
       "[<matplotlib.lines.Line2D at 0x1e5510bd910>]"
      ]
     },
     "execution_count": 63,
     "metadata": {},
     "output_type": "execute_result"
    },
    {
     "data": {
      "image/png": "[encoded data removed]",
      "text/plain": [
       "<Figure size 864x432 with 1 Axes>"
      ]
     },
     "metadata": {
      "needs_background": "light"
     },
     "output_type": "display_data"
    }
   ],
   "source": [
    "plt.figure(figsize =(12,6))\n",
    "plt.plot(df.Close)\n",
    "plt.plot(ma100,'r')"
   ]
  },
  {
   "cell_type": "markdown",
   "metadata": {},
   "source": []
  },
  {
   "cell_type": "code",
   "execution_count": 29,
   "metadata": {
    "execution": {
     "iopub.execute_input": "2022-03-27T08:48:38.068331Z",
     "iopub.status.busy": "2022-03-27T08:48:38.067927Z",
     "iopub.status.idle": "2022-03-27T08:48:38.077886Z",
     "shell.execute_reply": "2022-03-27T08:48:38.076821Z",
     "shell.execute_reply.started": "2022-03-27T08:48:38.068277Z"
    }
   },
   "outputs": [
    {
     "data": {
      "text/plain": [
       "0            NaN\n",
       "1            NaN\n",
       "2            NaN\n",
       "3            NaN\n",
       "4            NaN\n",
       "          ...   \n",
       "4314    26.45060\n",
       "4315    26.50545\n",
       "4316    26.55535\n",
       "4317    26.59540\n",
       "4318    26.64240\n",
       "Name: Close, Length: 4319, dtype: float64"
      ]
     },
     "execution_count": 29,
     "metadata": {},
     "output_type": "execute_result"
    }
   ],
   "source": [
    "ma200 = df.Close.rolling(200).mean()\n",
    "ma200"
   ]
  },
  {
   "cell_type": "code",
   "execution_count": 64,
   "metadata": {
    "execution": {
     "iopub.execute_input": "2022-03-27T08:48:38.080055Z",
     "iopub.status.busy": "2022-03-27T08:48:38.079737Z",
     "iopub.status.idle": "2022-03-27T08:48:38.323421Z",
     "shell.execute_reply": "2022-03-27T08:48:38.322565Z",
     "shell.execute_reply.started": "2022-03-27T08:48:38.080014Z"
    }
   },
   "outputs": [
    {
     "data": {
      "text/plain": [
       "[<matplotlib.lines.Line2D at 0x1e55112edc0>]"
      ]
     },
     "execution_count": 64,
     "metadata": {},
     "output_type": "execute_result"
    },
    {
     "data": {
      "image/png": "[encoded data removed]",
      "text/plain": [
       "<Figure size 864x432 with 1 Axes>"
      ]
     },
     "metadata": {
      "needs_background": "light"
     },
     "output_type": "display_data"
    }
   ],
   "source": [
    "plt.figure(figsize =(12,6))\n",
    "plt.plot(df.Close)\n",
    "plt.plot(ma100,'r')\n",
    "plt.plot(ma200,'g')"
   ]
  },
  {
   "cell_type": "code",
   "execution_count": 31,
   "metadata": {
    "execution": {
     "iopub.execute_input": "2022-03-27T08:48:38.325181Z",
     "iopub.status.busy": "2022-03-27T08:48:38.324933Z",
     "iopub.status.idle": "2022-03-27T08:48:38.331227Z",
     "shell.execute_reply": "2022-03-27T08:48:38.330346Z",
     "shell.execute_reply.started": "2022-03-27T08:48:38.325151Z"
    }
   },
   "outputs": [
    {
     "data": {
      "text/plain": [
       "(4319, 5)"
      ]
     },
     "execution_count": 31,
     "metadata": {},
     "output_type": "execute_result"
    }
   ],
   "source": [
    "df.shape"
   ]
  },
  {
   "cell_type": "code",
   "execution_count": 32,
   "metadata": {
    "execution": {
     "iopub.execute_input": "2022-03-27T08:48:38.333295Z",
     "iopub.status.busy": "2022-03-27T08:48:38.332975Z",
     "iopub.status.idle": "2022-03-27T08:48:38.345507Z",
     "shell.execute_reply": "2022-03-27T08:48:38.344588Z",
     "shell.execute_reply.started": "2022-03-27T08:48:38.333252Z"
    }
   },
   "outputs": [
    {
     "name": "stdout",
     "output_type": "stream",
     "text": [
      "(3023, 1)\n",
      "(1296, 1)\n"
     ]
    }
   ],
   "source": [
    "# Splitting Data into Training and Testing\n",
    "\n",
    "data_training = pd.DataFrame(df['Close'][0:int(len(df)*0.70)])\n",
    "data_testing = pd.DataFrame(df['Close'][int(len(df)*0.70): int(len(df))])\n",
    "\n",
    "print (data_training.shape)\n",
    "print(data_testing.shape)"
   ]
  },
  {
   "cell_type": "code",
   "execution_count": 33,
   "metadata": {
    "execution": {
     "iopub.execute_input": "2022-03-27T08:48:38.349861Z",
     "iopub.status.busy": "2022-03-27T08:48:38.348937Z",
     "iopub.status.idle": "2022-03-27T08:48:38.363602Z",
     "shell.execute_reply": "2022-03-27T08:48:38.362923Z",
     "shell.execute_reply.started": "2022-03-27T08:48:38.349823Z"
    }
   },
   "outputs": [
    {
     "data": {
      "text/html": [
       "<div>\n",
       "<style scoped>\n",
       "    .dataframe tbody tr th:only-of-type {\n",
       "        vertical-align: middle;\n",
       "    }\n",
       "\n",
       "    .dataframe tbody tr th {\n",
       "        vertical-align: top;\n",
       "    }\n",
       "\n",
       "    .dataframe thead th {\n",
       "        text-align: right;\n",
       "    }\n",
       "</style>\n",
       "<table border=\"1\" class=\"dataframe\">\n",
       "  <thead>\n",
       "    <tr style=\"text-align: right;\">\n",
       "      <th></th>\n",
       "      <th>Close</th>\n",
       "    </tr>\n",
       "  </thead>\n",
       "  <tbody>\n",
       "    <tr>\n",
       "      <th>0</th>\n",
       "      <td>11.92</td>\n",
       "    </tr>\n",
       "    <tr>\n",
       "      <th>1</th>\n",
       "      <td>12.06</td>\n",
       "    </tr>\n",
       "    <tr>\n",
       "      <th>2</th>\n",
       "      <td>11.78</td>\n",
       "    </tr>\n",
       "    <tr>\n",
       "      <th>3</th>\n",
       "      <td>11.34</td>\n",
       "    </tr>\n",
       "    <tr>\n",
       "      <th>4</th>\n",
       "      <td>11.10</td>\n",
       "    </tr>\n",
       "  </tbody>\n",
       "</table>\n",
       "</div>"
      ],
      "text/plain": [
       "   Close\n",
       "0  11.92\n",
       "1  12.06\n",
       "2  11.78\n",
       "3  11.34\n",
       "4  11.10"
      ]
     },
     "execution_count": 33,
     "metadata": {},
     "output_type": "execute_result"
    }
   ],
   "source": [
    "data_training.head()"
   ]
  },
  {
   "cell_type": "code",
   "execution_count": 34,
   "metadata": {
    "execution": {
     "iopub.execute_input": "2022-03-27T08:48:38.365393Z",
     "iopub.status.busy": "2022-03-27T08:48:38.364986Z",
     "iopub.status.idle": "2022-03-27T08:48:38.376739Z",
     "shell.execute_reply": "2022-03-27T08:48:38.375929Z",
     "shell.execute_reply.started": "2022-03-27T08:48:38.36535Z"
    }
   },
   "outputs": [
    {
     "data": {
      "text/html": [
       "<div>\n",
       "<style scoped>\n",
       "    .dataframe tbody tr th:only-of-type {\n",
       "        vertical-align: middle;\n",
       "    }\n",
       "\n",
       "    .dataframe tbody tr th {\n",
       "        vertical-align: top;\n",
       "    }\n",
       "\n",
       "    .dataframe thead th {\n",
       "        text-align: right;\n",
       "    }\n",
       "</style>\n",
       "<table border=\"1\" class=\"dataframe\">\n",
       "  <thead>\n",
       "    <tr style=\"text-align: right;\">\n",
       "      <th></th>\n",
       "      <th>Close</th>\n",
       "    </tr>\n",
       "  </thead>\n",
       "  <tbody>\n",
       "    <tr>\n",
       "      <th>3023</th>\n",
       "      <td>35.950001</td>\n",
       "    </tr>\n",
       "    <tr>\n",
       "      <th>3024</th>\n",
       "      <td>36.599998</td>\n",
       "    </tr>\n",
       "    <tr>\n",
       "      <th>3025</th>\n",
       "      <td>36.340000</td>\n",
       "    </tr>\n",
       "    <tr>\n",
       "      <th>3026</th>\n",
       "      <td>37.259998</td>\n",
       "    </tr>\n",
       "    <tr>\n",
       "      <th>3027</th>\n",
       "      <td>38.150002</td>\n",
       "    </tr>\n",
       "  </tbody>\n",
       "</table>\n",
       "</div>"
      ],
      "text/plain": [
       "          Close\n",
       "3023  35.950001\n",
       "3024  36.599998\n",
       "3025  36.340000\n",
       "3026  37.259998\n",
       "3027  38.150002"
      ]
     },
     "execution_count": 34,
     "metadata": {},
     "output_type": "execute_result"
    }
   ],
   "source": [
    "data_testing.head()"
   ]
  },
  {
   "cell_type": "code",
   "execution_count": 35,
   "metadata": {
    "execution": {
     "iopub.execute_input": "2022-03-27T08:48:38.378896Z",
     "iopub.status.busy": "2022-03-27T08:48:38.378123Z",
     "iopub.status.idle": "2022-03-27T08:48:39.097632Z",
     "shell.execute_reply": "2022-03-27T08:48:39.096722Z",
     "shell.execute_reply.started": "2022-03-27T08:48:38.378854Z"
    }
   },
   "outputs": [],
   "source": [
    "from sklearn.preprocessing import MinMaxScaler\n",
    "scaler = MinMaxScaler (feature_range=(0,1)) "
   ]
  },
  {
   "cell_type": "code",
   "execution_count": 36,
   "metadata": {
    "execution": {
     "iopub.execute_input": "2022-03-27T08:48:39.099309Z",
     "iopub.status.busy": "2022-03-27T08:48:39.098979Z",
     "iopub.status.idle": "2022-03-27T08:48:39.111293Z",
     "shell.execute_reply": "2022-03-27T08:48:39.110376Z",
     "shell.execute_reply.started": "2022-03-27T08:48:39.099269Z"
    }
   },
   "outputs": [
    {
     "data": {
      "text/plain": [
       "array([[0.1816677 ],\n",
       "       [0.18456445],\n",
       "       [0.17877094],\n",
       "       ...,\n",
       "       [0.64349267],\n",
       "       [0.64659629],\n",
       "       [0.66997723]])"
      ]
     },
     "execution_count": 36,
     "metadata": {},
     "output_type": "execute_result"
    }
   ],
   "source": [
    "data_training_array = scaler.fit_transform(data_training)\n",
    "data_training_array"
   ]
  },
  {
   "cell_type": "code",
   "execution_count": 37,
   "metadata": {
    "execution": {
     "iopub.execute_input": "2022-03-27T08:48:39.113414Z",
     "iopub.status.busy": "2022-03-27T08:48:39.112589Z",
     "iopub.status.idle": "2022-03-27T08:48:39.126819Z",
     "shell.execute_reply": "2022-03-27T08:48:39.126117Z",
     "shell.execute_reply.started": "2022-03-27T08:48:39.113369Z"
    }
   },
   "outputs": [
    {
     "data": {
      "text/plain": [
       "(3023, 1)"
      ]
     },
     "execution_count": 37,
     "metadata": {},
     "output_type": "execute_result"
    }
   ],
   "source": [
    "data_training_array.shape"
   ]
  },
  {
   "cell_type": "code",
   "execution_count": 38,
   "metadata": {
    "execution": {
     "iopub.execute_input": "2022-03-27T08:48:39.128885Z",
     "iopub.status.busy": "2022-03-27T08:48:39.128057Z",
     "iopub.status.idle": "2022-03-27T08:48:39.145122Z",
     "shell.execute_reply": "2022-03-27T08:48:39.144349Z",
     "shell.execute_reply.started": "2022-03-27T08:48:39.128846Z"
    }
   },
   "outputs": [],
   "source": [
    "x_train = []\n",
    "y_train = []\n",
    "\n",
    "for i in range(100,data_training_array.shape[0]):\n",
    "    x_train.append(data_training_array[i-100: i])\n",
    "    y_train.append(data_training_array[i, 0])\n",
    "\n",
    "x_train, y_train = np.array(x_train), np.array(y_train)    "
   ]
  },
  {
   "cell_type": "code",
   "execution_count": 39,
   "metadata": {
    "execution": {
     "iopub.execute_input": "2022-03-27T08:48:39.147531Z",
     "iopub.status.busy": "2022-03-27T08:48:39.146532Z",
     "iopub.status.idle": "2022-03-27T08:48:39.15421Z",
     "shell.execute_reply": "2022-03-27T08:48:39.15339Z",
     "shell.execute_reply.started": "2022-03-27T08:48:39.147482Z"
    }
   },
   "outputs": [
    {
     "data": {
      "text/plain": [
       "(2923, 100, 1)"
      ]
     },
     "execution_count": 39,
     "metadata": {},
     "output_type": "execute_result"
    }
   ],
   "source": [
    "x_train.shape"
   ]
  },
  {
   "cell_type": "code",
   "execution_count": 40,
   "metadata": {
    "execution": {
     "iopub.execute_input": "2022-03-27T08:48:39.155576Z",
     "iopub.status.busy": "2022-03-27T08:48:39.155361Z",
     "iopub.status.idle": "2022-03-27T08:48:39.164363Z",
     "shell.execute_reply": "2022-03-27T08:48:39.163459Z",
     "shell.execute_reply.started": "2022-03-27T08:48:39.15555Z"
    }
   },
   "outputs": [],
   "source": [
    "from keras.layers import Dense, Dropout , LSTM\n",
    "from keras.models import Sequential\n",
    "            "
   ]
  },
  {
   "cell_type": "code",
   "execution_count": 41,
   "metadata": {
    "execution": {
     "iopub.execute_input": "2022-03-27T08:48:39.166018Z",
     "iopub.status.busy": "2022-03-27T08:48:39.165796Z",
     "iopub.status.idle": "2022-03-27T08:48:39.63971Z",
     "shell.execute_reply": "2022-03-27T08:48:39.638838Z",
     "shell.execute_reply.started": "2022-03-27T08:48:39.165991Z"
    }
   },
   "outputs": [],
   "source": [
    "model = Sequential()\n",
    "model.add(LSTM(units = 50, activation = 'relu', return_sequences = True,   \n",
    "              input_shape = (x_train.shape[1], 1)))\n",
    "model.add(Dropout(0.2))\n",
    "\n",
    "model.add(LSTM(units = 60, activation = 'relu', return_sequences = True))\n",
    "model.add(Dropout(0.3))\n",
    "\n",
    "model.add(LSTM(units = 80, activation = 'relu', return_sequences = True))\n",
    "model.add(Dropout(0.3))\n",
    "\n",
    "\n",
    "\n",
    "model.add(LSTM(units = 120, activation = 'relu'))\n",
    "model.add(Dropout(0.5))\n",
    "\n",
    "\n",
    "model.add(Dense(units = 1))"
   ]
  },
  {
   "cell_type": "code",
   "execution_count": 42,
   "metadata": {
    "execution": {
     "iopub.execute_input": "2022-03-27T08:48:39.641101Z",
     "iopub.status.busy": "2022-03-27T08:48:39.640872Z",
     "iopub.status.idle": "2022-03-27T08:48:39.652572Z",
     "shell.execute_reply": "2022-03-27T08:48:39.650841Z",
     "shell.execute_reply.started": "2022-03-27T08:48:39.641073Z"
    }
   },
   "outputs": [
    {
     "name": "stdout",
     "output_type": "stream",
     "text": [
      "Model: \"sequential\"\n",
      "_________________________________________________________________\n",
      " Layer (type)                Output Shape              Param #   \n",
      "=================================================================\n",
      " lstm (LSTM)                 (None, 100, 50)           10400     \n",
      "                                                                 \n",
      " dropout (Dropout)           (None, 100, 50)           0         \n",
      "                                                                 \n",
      " lstm_1 (LSTM)               (None, 100, 60)           26640     \n",
      "                                                                 \n",
      " dropout_1 (Dropout)         (None, 100, 60)           0         \n",
      "                                                                 \n",
      " lstm_2 (LSTM)               (None, 100, 80)           45120     \n",
      "                                                                 \n",
      " dropout_2 (Dropout)         (None, 100, 80)           0         \n",
      "                                                                 \n",
      " lstm_3 (LSTM)               (None, 120)               96480     \n",
      "                                                                 \n",
      " dropout_3 (Dropout)         (None, 120)               0         \n",
      "                                                                 \n",
      " dense (Dense)               (None, 1)                 121       \n",
      "                                                                 \n",
      "=================================================================\n",
      "Total params: 178,761\n",
      "Trainable params: 178,761\n",
      "Non-trainable params: 0\n",
      "_________________________________________________________________\n"
     ]
    }
   ],
   "source": [
    "model.summary()"
   ]
  },
  {
   "cell_type": "code",
   "execution_count": 43,
   "metadata": {
    "execution": {
     "iopub.execute_input": "2022-03-27T08:48:39.654016Z",
     "iopub.status.busy": "2022-03-27T08:48:39.653778Z",
     "iopub.status.idle": "2022-03-27T09:15:08.158673Z",
     "shell.execute_reply": "2022-03-27T09:15:08.157842Z",
     "shell.execute_reply.started": "2022-03-27T08:48:39.653987Z"
    }
   },
   "outputs": [
    {
     "name": "stdout",
     "output_type": "stream",
     "text": [
      "Epoch 1/50\n",
      "92/92 [==============================] - 18s 144ms/step - loss: 0.0280\n",
      "Epoch 2/50\n",
      "92/92 [==============================] - 13s 139ms/step - loss: 0.0075\n",
      "Epoch 3/50\n",
      "92/92 [==============================] - 13s 138ms/step - loss: 0.0067\n",
      "Epoch 4/50\n",
      "92/92 [==============================] - 12s 136ms/step - loss: 0.0063\n",
      "Epoch 5/50\n",
      "92/92 [==============================] - 12s 135ms/step - loss: 0.0056\n",
      "Epoch 6/50\n",
      "92/92 [==============================] - 12s 135ms/step - loss: 0.0054\n",
      "Epoch 7/50\n",
      "92/92 [==============================] - 12s 135ms/step - loss: 0.0049\n",
      "Epoch 8/50\n",
      "92/92 [==============================] - 12s 135ms/step - loss: 0.0045\n",
      "Epoch 9/50\n",
      "92/92 [==============================] - 12s 134ms/step - loss: 0.0047\n",
      "Epoch 10/50\n",
      "92/92 [==============================] - 12s 135ms/step - loss: 0.0040\n",
      "Epoch 11/50\n",
      "92/92 [==============================] - 13s 140ms/step - loss: 0.0039\n",
      "Epoch 12/50\n",
      "92/92 [==============================] - 12s 135ms/step - loss: 0.0039\n",
      "Epoch 13/50\n",
      "92/92 [==============================] - 13s 137ms/step - loss: 0.0034\n",
      "Epoch 14/50\n",
      "92/92 [==============================] - 12s 136ms/step - loss: 0.0033\n",
      "Epoch 15/50\n",
      "92/92 [==============================] - 13s 138ms/step - loss: 0.0031\n",
      "Epoch 16/50\n",
      "92/92 [==============================] - 13s 136ms/step - loss: 0.0033\n",
      "Epoch 17/50\n",
      "92/92 [==============================] - 13s 138ms/step - loss: 0.0028\n",
      "Epoch 18/50\n",
      "92/92 [==============================] - 13s 136ms/step - loss: 0.0028\n",
      "Epoch 19/50\n",
      "92/92 [==============================] - 13s 136ms/step - loss: 0.0027\n",
      "Epoch 20/50\n",
      "92/92 [==============================] - 12s 136ms/step - loss: 0.0029\n",
      "Epoch 21/50\n",
      "92/92 [==============================] - 12s 134ms/step - loss: 0.0027\n",
      "Epoch 22/50\n",
      "92/92 [==============================] - 12s 134ms/step - loss: 0.0025\n",
      "Epoch 23/50\n",
      "92/92 [==============================] - 12s 135ms/step - loss: 0.0025\n",
      "Epoch 24/50\n",
      "92/92 [==============================] - 12s 134ms/step - loss: 0.0025\n",
      "Epoch 25/50\n",
      "92/92 [==============================] - 12s 134ms/step - loss: 0.0023\n",
      "Epoch 26/50\n",
      "92/92 [==============================] - 12s 135ms/step - loss: 0.0024\n",
      "Epoch 27/50\n",
      "92/92 [==============================] - 12s 135ms/step - loss: 0.0022\n",
      "Epoch 28/50\n",
      "92/92 [==============================] - 12s 135ms/step - loss: 0.0022\n",
      "Epoch 29/50\n",
      "92/92 [==============================] - 12s 135ms/step - loss: 0.0020\n",
      "Epoch 30/50\n",
      "92/92 [==============================] - 12s 133ms/step - loss: 0.0020\n",
      "Epoch 31/50\n",
      "92/92 [==============================] - 12s 136ms/step - loss: 0.0022\n",
      "Epoch 32/50\n",
      "92/92 [==============================] - 12s 134ms/step - loss: 0.0020\n",
      "Epoch 33/50\n",
      "92/92 [==============================] - 12s 135ms/step - loss: 0.0020\n",
      "Epoch 34/50\n",
      "92/92 [==============================] - 12s 133ms/step - loss: 0.0020\n",
      "Epoch 35/50\n",
      "92/92 [==============================] - 12s 134ms/step - loss: 0.0019\n",
      "Epoch 36/50\n",
      "92/92 [==============================] - 12s 134ms/step - loss: 0.0018\n",
      "Epoch 37/50\n",
      "92/92 [==============================] - 12s 135ms/step - loss: 0.0018\n",
      "Epoch 38/50\n",
      "92/92 [==============================] - 12s 134ms/step - loss: 0.0020\n",
      "Epoch 39/50\n",
      "92/92 [==============================] - 12s 134ms/step - loss: 0.0020\n",
      "Epoch 40/50\n",
      "92/92 [==============================] - 12s 134ms/step - loss: 0.0020\n",
      "Epoch 41/50\n",
      "92/92 [==============================] - 12s 135ms/step - loss: 0.0019\n",
      "Epoch 42/50\n",
      "92/92 [==============================] - 13s 138ms/step - loss: 0.0018\n",
      "Epoch 43/50\n",
      "92/92 [==============================] - 12s 133ms/step - loss: 0.0019\n",
      "Epoch 44/50\n",
      "92/92 [==============================] - 12s 133ms/step - loss: 0.0019\n",
      "Epoch 45/50\n",
      "92/92 [==============================] - 12s 133ms/step - loss: 0.0018\n",
      "Epoch 46/50\n",
      "92/92 [==============================] - 12s 133ms/step - loss: 0.0019\n",
      "Epoch 47/50\n",
      "92/92 [==============================] - 12s 133ms/step - loss: 0.0020\n",
      "Epoch 48/50\n",
      "92/92 [==============================] - 12s 135ms/step - loss: 0.0018\n",
      "Epoch 49/50\n",
      "92/92 [==============================] - 12s 134ms/step - loss: 0.0017\n",
      "Epoch 50/50\n",
      "92/92 [==============================] - 13s 136ms/step - loss: 0.0018\n"
     ]
    },
    {
     "data": {
      "text/plain": [
       "<keras.callbacks.History at 0x1e54558fe50>"
      ]
     },
     "execution_count": 43,
     "metadata": {},
     "output_type": "execute_result"
    }
   ],
   "source": [
    "model.compile(optimizer='adam', loss='mean_squared_error')\n",
    "model.fit(x_train, y_train, epochs= 50)                                  "
   ]
  },
  {
   "cell_type": "code",
   "execution_count": 44,
   "metadata": {},
   "outputs": [],
   "source": [
    "model.save('keras.h5')"
   ]
  },
  {
   "cell_type": "code",
   "execution_count": 45,
   "metadata": {},
   "outputs": [
    {
     "data": {
      "text/html": [
       "<div>\n",
       "<style scoped>\n",
       "    .dataframe tbody tr th:only-of-type {\n",
       "        vertical-align: middle;\n",
       "    }\n",
       "\n",
       "    .dataframe tbody tr th {\n",
       "        vertical-align: top;\n",
       "    }\n",
       "\n",
       "    .dataframe thead th {\n",
       "        text-align: right;\n",
       "    }\n",
       "</style>\n",
       "<table border=\"1\" class=\"dataframe\">\n",
       "  <thead>\n",
       "    <tr style=\"text-align: right;\">\n",
       "      <th></th>\n",
       "      <th>Close</th>\n",
       "    </tr>\n",
       "  </thead>\n",
       "  <tbody>\n",
       "    <tr>\n",
       "      <th>3023</th>\n",
       "      <td>35.950001</td>\n",
       "    </tr>\n",
       "    <tr>\n",
       "      <th>3024</th>\n",
       "      <td>36.599998</td>\n",
       "    </tr>\n",
       "    <tr>\n",
       "      <th>3025</th>\n",
       "      <td>36.340000</td>\n",
       "    </tr>\n",
       "    <tr>\n",
       "      <th>3026</th>\n",
       "      <td>37.259998</td>\n",
       "    </tr>\n",
       "    <tr>\n",
       "      <th>3027</th>\n",
       "      <td>38.150002</td>\n",
       "    </tr>\n",
       "  </tbody>\n",
       "</table>\n",
       "</div>"
      ],
      "text/plain": [
       "          Close\n",
       "3023  35.950001\n",
       "3024  36.599998\n",
       "3025  36.340000\n",
       "3026  37.259998\n",
       "3027  38.150002"
      ]
     },
     "execution_count": 45,
     "metadata": {},
     "output_type": "execute_result"
    }
   ],
   "source": [
    "data_testing.head()"
   ]
  },
  {
   "cell_type": "code",
   "execution_count": 46,
   "metadata": {},
   "outputs": [],
   "source": [
    "past_100_days= data_training.tail(100)"
   ]
  },
  {
   "cell_type": "code",
   "execution_count": 48,
   "metadata": {},
   "outputs": [],
   "source": [
    "final_df = past_100_days.append(data_testing, ignore_index='True')"
   ]
  },
  {
   "cell_type": "code",
   "execution_count": 49,
   "metadata": {},
   "outputs": [
    {
     "data": {
      "text/html": [
       "<div>\n",
       "<style scoped>\n",
       "    .dataframe tbody tr th:only-of-type {\n",
       "        vertical-align: middle;\n",
       "    }\n",
       "\n",
       "    .dataframe tbody tr th {\n",
       "        vertical-align: top;\n",
       "    }\n",
       "\n",
       "    .dataframe thead th {\n",
       "        text-align: right;\n",
       "    }\n",
       "</style>\n",
       "<table border=\"1\" class=\"dataframe\">\n",
       "  <thead>\n",
       "    <tr style=\"text-align: right;\">\n",
       "      <th></th>\n",
       "      <th>Close</th>\n",
       "    </tr>\n",
       "  </thead>\n",
       "  <tbody>\n",
       "    <tr>\n",
       "      <th>0</th>\n",
       "      <td>38.180000</td>\n",
       "    </tr>\n",
       "    <tr>\n",
       "      <th>1</th>\n",
       "      <td>38.689999</td>\n",
       "    </tr>\n",
       "    <tr>\n",
       "      <th>2</th>\n",
       "      <td>38.459999</td>\n",
       "    </tr>\n",
       "    <tr>\n",
       "      <th>3</th>\n",
       "      <td>38.630001</td>\n",
       "    </tr>\n",
       "    <tr>\n",
       "      <th>4</th>\n",
       "      <td>38.590000</td>\n",
       "    </tr>\n",
       "  </tbody>\n",
       "</table>\n",
       "</div>"
      ],
      "text/plain": [
       "       Close\n",
       "0  38.180000\n",
       "1  38.689999\n",
       "2  38.459999\n",
       "3  38.630001\n",
       "4  38.590000"
      ]
     },
     "execution_count": 49,
     "metadata": {},
     "output_type": "execute_result"
    }
   ],
   "source": [
    "final_df.head()"
   ]
  },
  {
   "cell_type": "code",
   "execution_count": 50,
   "metadata": {},
   "outputs": [
    {
     "data": {
      "text/plain": [
       "array([[0.84804774],\n",
       "       [0.86073111],\n",
       "       [0.85501115],\n",
       "       ...,\n",
       "       [0.67023129],\n",
       "       [0.62869933],\n",
       "       [0.66451128]])"
      ]
     },
     "execution_count": 50,
     "metadata": {},
     "output_type": "execute_result"
    }
   ],
   "source": [
    "input_data= scaler.fit_transform(final_df)\n",
    "input_data"
   ]
  },
  {
   "cell_type": "code",
   "execution_count": 52,
   "metadata": {},
   "outputs": [
    {
     "data": {
      "text/plain": [
       "(1396, 1)"
      ]
     },
     "execution_count": 52,
     "metadata": {},
     "output_type": "execute_result"
    }
   ],
   "source": [
    "input_data.shape"
   ]
  },
  {
   "cell_type": "code",
   "execution_count": 53,
   "metadata": {},
   "outputs": [],
   "source": [
    "x_test=[]\n",
    "y_test=[]\n",
    "for i in range(100, input_data.shape[0]):\n",
    "    x_test.append(input_data[i-100: i])\n",
    "    y_test.append(input_data[i, 0])"
   ]
  },
  {
   "cell_type": "code",
   "execution_count": 54,
   "metadata": {},
   "outputs": [
    {
     "name": "stdout",
     "output_type": "stream",
     "text": [
      "(1296, 100, 1)\n",
      "(1296,)\n"
     ]
    }
   ],
   "source": [
    "x_test,y_test=np.array(x_test),np.array(y_test)\n",
    "print(x_test.shape)\n",
    "print(y_test.shape)"
   ]
  },
  {
   "cell_type": "code",
   "execution_count": 56,
   "metadata": {},
   "outputs": [],
   "source": [
    "y_predicted=model.predict(x_test)"
   ]
  },
  {
   "cell_type": "code",
   "execution_count": 57,
   "metadata": {},
   "outputs": [
    {
     "data": {
      "text/plain": [
       "(1296, 1)"
      ]
     },
     "execution_count": 57,
     "metadata": {},
     "output_type": "execute_result"
    }
   ],
   "source": [
    "y_predicted.shape"
   ]
  },
  {
   "cell_type": "code",
   "execution_count": 58,
   "metadata": {},
   "outputs": [
    {
     "data": {
      "text/plain": [
       "array([0.79258891, 0.80875399, 0.80228797, ..., 0.67023129, 0.62869933,\n",
       "       0.66451128])"
      ]
     },
     "execution_count": 58,
     "metadata": {},
     "output_type": "execute_result"
    }
   ],
   "source": [
    "y_test"
   ]
  },
  {
   "cell_type": "code",
   "execution_count": 59,
   "metadata": {},
   "outputs": [
    {
     "data": {
      "text/plain": [
       "array([[0.7303469 ],\n",
       "       [0.73681694],\n",
       "       [0.7470033 ],\n",
       "       ...,\n",
       "       [0.694662  ],\n",
       "       [0.69061494],\n",
       "       [0.6776402 ]], dtype=float32)"
      ]
     },
     "execution_count": 59,
     "metadata": {},
     "output_type": "execute_result"
    }
   ],
   "source": [
    "y_predicted"
   ]
  },
  {
   "cell_type": "code",
   "execution_count": 60,
   "metadata": {},
   "outputs": [
    {
     "data": {
      "text/plain": [
       "array([0.02486943])"
      ]
     },
     "execution_count": 60,
     "metadata": {},
     "output_type": "execute_result"
    }
   ],
   "source": [
    "scaler.scale_"
   ]
  },
  {
   "cell_type": "code",
   "execution_count": 61,
   "metadata": {},
   "outputs": [],
   "source": [
    "scale_factor= 1/0.02486943\n",
    "y_predicted= y_predicted*scale_factor\n",
    "y_test=y_test*scale_factor"
   ]
  },
  {
   "cell_type": "code",
   "execution_count": 66,
   "metadata": {},
   "outputs": [
    {
     "data": {
      "image/png": "[encoded data removed]",
      "text/plain": [
       "<Figure size 864x432 with 1 Axes>"
      ]
     },
     "metadata": {
      "needs_background": "light"
     },
     "output_type": "display_data"
    }
   ],
   "source": [
    "plt.figure(figsize=(12,6))\n",
    "plt.plot(y_test,'b', label= 'Original Price')\n",
    "plt.plot(y_predicted, 'r', label= 'Predicted Price')\n",
    "plt.xlabel('Time')\n",
    "plt.ylabel('Price')\n",
    "plt.legend()\n",
    "plt.show()"
   ]
  },
  {
   "cell_type": "code",
   "execution_count": null,
   "metadata": {},
   "outputs": [],
   "source": []
  }
 ],
 "metadata": {
  "interpreter": {
   "hash": "1bc66df9640e1c3054c558a0616e4a3d171308de798f2439b219c5397075e74d"
  },
  "kernelspec": {
   "display_name": "Python 3 (ipykernel)",
   "language": "python",
   "name": "python3"
  },
  "language_info": {
   "codemirror_mode": {
    "name": "ipython",
    "version": 3
   },
   "file_extension": ".py",
   "mimetype": "text/x-python",
   "name": "python",
   "nbconvert_exporter": "python",
   "pygments_lexer": "ipython3",
   "version": "3.11.2"
  }
 },
 "nbformat": 4,
 "nbformat_minor": 4
}
